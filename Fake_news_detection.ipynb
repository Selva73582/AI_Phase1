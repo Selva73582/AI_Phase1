import pandas as pd
import numpy as np
from sklearn.feature_extraction.text import TfidfVectorizer
from sklearn.naive_bayes import MultinomialNB
from nltk.corpus import stopwords
from nltk.tokenize import word_tokenize
from sklearn.preprocessing import LabelEncoder
import nltk


nltk.download('stopwords')
nltk.download('punkt')


true_data = pd.read_csv("True.csv")
fake_data = pd.read_csv("Fake.csv")


true_data['label'] = 1
fake_data['label'] = 0


data = pd.concat([true_data, fake_data], ignore_index=True)


data = data.sample(frac=1).reset_index(drop=True)


def preprocess_text(text):
    stop_words = set(stopwords.words('english'))
    words = word_tokenize(text.lower())  
    filtered_words = [word for word in words if word.isalpha() and word not in stop_words] 
    return ' '.join(filtered_words)


data['PreprocessedText'] = data['text'].apply(preprocess_text)

data.to_csv('preprocessed_dataset.csv', index=False)


tfidf_vectorizer = TfidfVectorizer(max_features=5000)
X = data['text']
y = data['label']
X_tfidf = tfidf_vectorizer.fit_transform(X)


classifier = MultinomialNB()
classifier.fit(X_tfidf, y)

while True:

    news_text = input("Enter a news article (or 'exit' to quit): ")

    if news_text.lower() == 'exit':
        break


    preprocessed_text = preprocess_text(news_text)


    news_tfidf = tfidf_vectorizer.transform([preprocessed_text])

    label = classifier.predict(news_tfidf)

    if label == 1:
        print("This news is likely TRUE.")
    else:
        print("This news is likely FALSE.")
